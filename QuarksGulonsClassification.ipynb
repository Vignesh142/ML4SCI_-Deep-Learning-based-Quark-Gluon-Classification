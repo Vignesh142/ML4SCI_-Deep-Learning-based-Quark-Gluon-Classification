{
 "cells": [
  {
   "cell_type": "code",
   "execution_count": 1,
   "id": "8e490e7f-7e89-46a3-83ea-3e9f1b6b8e59",
   "metadata": {},
   "outputs": [],
   "source": [
    "# !pip install fastparquet"
   ]
  },
  {
   "cell_type": "markdown",
   "id": "85c9f2a6-3b07-445e-aa9b-6e44ab2026cf",
   "metadata": {},
   "source": [
    "# Import Libraries"
   ]
  },
  {
   "cell_type": "code",
   "execution_count": 1,
   "id": "04cd8c0d-c74d-496b-a034-b14d2fe7323e",
   "metadata": {},
   "outputs": [],
   "source": [
    "import numpy as np\n",
    "import pandas as pd\n",
    "import pyarrow.parquet as pq\n",
    "import pyarrow\n",
    "import matplotlib.pyplot as plt\n",
    "import os\n",
    "import tensorflow as tf\n",
    "from tensorflow.keras.models import Sequential\n",
    "from tensorflow.keras import layers, models\n",
    "# importing keras layers for cnn\n",
    "from tensorflow.keras.layers import Dense, Conv2D, MaxPooling2D, Flatten\n",
    "# splitting the data to train and test\n",
    "from sklearn.model_selection import train_test_split\n",
    "from sklearn.metrics import roc_auc_score\n",
    "from sklearn.metrics import roc_curve"
   ]
  },
  {
   "cell_type": "markdown",
   "id": "bfafcbea-2d54-4c7f-8854-4a683b25799d",
   "metadata": {},
   "source": [
    "## Loading data"
   ]
  },
  {
   "cell_type": "code",
   "execution_count": 2,
   "id": "b62399e3-9a2d-4833-9ccb-d4eeaf0dce78",
   "metadata": {},
   "outputs": [
    {
     "name": "stdout",
     "output_type": "stream",
     "text": [
      "quarks_gluons_datasets\\QCDToGGQQ_IMGjet_RH1all_jet0_run0_n36272.test.snappy.parquet\n",
      "quarks_gluons_datasets\\QCDToGGQQ_IMGjet_RH1all_jet0_run1_n47540.test.snappy.parquet\n",
      "quarks_gluons_datasets\\QCDToGGQQ_IMGjet_RH1all_jet0_run2_n55494.test.snappy.parquet\n"
     ]
    }
   ],
   "source": [
    "for dirname, _, filenames in os.walk('quarks_gluons_datasets'):\n",
    "    for filename in filenames:\n",
    "        print(os.path.join(dirname, filename))"
   ]
  },
  {
   "cell_type": "code",
   "execution_count": 3,
   "id": "f21ece70-9627-4054-8bf3-a37dc519a186",
   "metadata": {},
   "outputs": [],
   "source": [
    "filename='quarks_gluons_datasets\\QCDToGGQQ_IMGjet_RH1all_jet0_run0_n36272.test.snappy.parquet'\n",
    "parquet_0=pq.ParquetFile(filename)"
   ]
  },
  {
   "cell_type": "code",
   "execution_count": null,
   "id": "e7b0da29-57db-49db-a959-1f0e3297409a",
   "metadata": {},
   "outputs": [],
   "source": [
    "# filename='quarks_gluons_datasets/QCDToGGQQ_IMGjet_RH1all_jet0_run1_n47540.test.snappy.parquet'\n",
    "# parquet_1=pq.ParquetFile(filename)"
   ]
  },
  {
   "cell_type": "code",
   "execution_count": null,
   "id": "e109b55d-2b4d-4068-858b-14a0d246b3a6",
   "metadata": {},
   "outputs": [],
   "source": [
    "# filename='quarks_gluons_datasets/QCDToGGQQ_IMGjet_RH1all_jet0_run2_n55494.test.snappy.parquet'\n",
    "# parquet_3=pd.read_parquet(filename, engine='pyarrow')"
   ]
  },
  {
   "cell_type": "markdown",
   "id": "91dd27a4-9512-48c6-9332-57dfdb6c7042",
   "metadata": {},
   "source": [
    "### Visualizing X_jets data of 3 channels"
   ]
  },
  {
   "cell_type": "code",
   "execution_count": null,
   "id": "e0bbbf69-6e22-48e1-94c9-3c9838c02eee",
   "metadata": {},
   "outputs": [
    {
     "data": {
      "text/html": [
       "<div>\n",
       "<style scoped>\n",
       "    .dataframe tbody tr th:only-of-type {\n",
       "        vertical-align: middle;\n",
       "    }\n",
       "\n",
       "    .dataframe tbody tr th {\n",
       "        vertical-align: top;\n",
       "    }\n",
       "\n",
       "    .dataframe thead th {\n",
       "        text-align: right;\n",
       "    }\n",
       "</style>\n",
       "<table border=\"1\" class=\"dataframe\">\n",
       "  <thead>\n",
       "    <tr style=\"text-align: right;\">\n",
       "      <th></th>\n",
       "      <th>X_jets</th>\n",
       "      <th>pt</th>\n",
       "      <th>m0</th>\n",
       "      <th>y</th>\n",
       "    </tr>\n",
       "  </thead>\n",
       "  <tbody>\n",
       "    <tr>\n",
       "      <th>0</th>\n",
       "      <td>[[[0.0, 0.0, 0.0, 0.0, 0.0, 0.0, 0.0, 0.0, 0.0...</td>\n",
       "      <td>112.411095</td>\n",
       "      <td>21.098248</td>\n",
       "      <td>0.0</td>\n",
       "    </tr>\n",
       "    <tr>\n",
       "      <th>1</th>\n",
       "      <td>[[[0.0, 0.0, 0.0, 0.0, 0.0, 0.0, 0.0, 0.0, 0.0...</td>\n",
       "      <td>95.220406</td>\n",
       "      <td>14.030600</td>\n",
       "      <td>1.0</td>\n",
       "    </tr>\n",
       "    <tr>\n",
       "      <th>2</th>\n",
       "      <td>[[[0.0, 0.0, 0.0, 0.0, 0.0, 0.0, 0.0, 0.0, 0.0...</td>\n",
       "      <td>97.007317</td>\n",
       "      <td>17.728968</td>\n",
       "      <td>1.0</td>\n",
       "    </tr>\n",
       "    <tr>\n",
       "      <th>3</th>\n",
       "      <td>[[[0.0, 0.0, 0.0, 0.0, 0.0, 0.0, 0.0, 0.0, 0.0...</td>\n",
       "      <td>82.490311</td>\n",
       "      <td>14.702741</td>\n",
       "      <td>0.0</td>\n",
       "    </tr>\n",
       "    <tr>\n",
       "      <th>4</th>\n",
       "      <td>[[[0.0, 0.0, 0.0, 0.0, 0.0, 0.0, 0.0, 0.328483...</td>\n",
       "      <td>102.539238</td>\n",
       "      <td>19.456257</td>\n",
       "      <td>0.0</td>\n",
       "    </tr>\n",
       "  </tbody>\n",
       "</table>\n",
       "</div>"
      ],
      "text/plain": [
       "                                              X_jets          pt         m0  \\\n",
       "0  [[[0.0, 0.0, 0.0, 0.0, 0.0, 0.0, 0.0, 0.0, 0.0...  112.411095  21.098248   \n",
       "1  [[[0.0, 0.0, 0.0, 0.0, 0.0, 0.0, 0.0, 0.0, 0.0...   95.220406  14.030600   \n",
       "2  [[[0.0, 0.0, 0.0, 0.0, 0.0, 0.0, 0.0, 0.0, 0.0...   97.007317  17.728968   \n",
       "3  [[[0.0, 0.0, 0.0, 0.0, 0.0, 0.0, 0.0, 0.0, 0.0...   82.490311  14.702741   \n",
       "4  [[[0.0, 0.0, 0.0, 0.0, 0.0, 0.0, 0.0, 0.328483...  102.539238  19.456257   \n",
       "\n",
       "     y  \n",
       "0  0.0  \n",
       "1  1.0  \n",
       "2  1.0  \n",
       "3  0.0  \n",
       "4  0.0  "
      ]
     },
     "execution_count": 35,
     "metadata": {},
     "output_type": "execute_result"
    }
   ],
   "source": [
    "df=[]\n",
    "for i in range(16):\n",
    "    x=parquet_0.read_row_group(i).to_pandas()\n",
    "    df.append(x)\n",
    "df=pd.concat(df,ignore_index=True)\n",
    "df.head()"
   ]
  },
  {
   "cell_type": "code",
   "execution_count": 40,
   "id": "431c7aed-f757-4329-8ce0-37e06c6ecd20",
   "metadata": {},
   "outputs": [
    {
     "name": "stderr",
     "output_type": "stream",
     "text": [
      "Clipping input data to the valid range for imshow with RGB data ([0..1] for floats or [0..255] for integers).\n",
      "Clipping input data to the valid range for imshow with RGB data ([0..1] for floats or [0..255] for integers).\n",
      "Clipping input data to the valid range for imshow with RGB data ([0..1] for floats or [0..255] for integers).\n",
      "Clipping input data to the valid range for imshow with RGB data ([0..1] for floats or [0..255] for integers).\n",
      "Clipping input data to the valid range for imshow with RGB data ([0..1] for floats or [0..255] for integers).\n",
      "Clipping input data to the valid range for imshow with RGB data ([0..1] for floats or [0..255] for integers).\n"
     ]
    },
    {
     "data": {
      "image/png": "[encoded data removed]",
      "text/plain": [
       "<Figure size 1300x1000 with 6 Axes>"
      ]
     },
     "metadata": {},
     "output_type": "display_data"
    }
   ],
   "source": [
    "fig, axes = plt.subplots(nrows=2, ncols=3,figsize=(13,10))\n",
    "# fig.suptitle('Sample Datasets')\n",
    "for i,ax in enumerate(axes.flatten()):\n",
    "    a=np.array(df['X_jets'][i])\n",
    "    farr=[]\n",
    "    for i in range (0,3):\n",
    "        arr=np.stack(a[i],axis=1)\n",
    "        farr.append(arr)\n",
    "    farr=np.array(farr)\n",
    "    farr_transpose= np.transpose(farr, (1, 2, 0))\n",
    "    ax.imshow(farr_transpose)"
   ]
  },
  {
   "cell_type": "code",
   "execution_count": 4,
   "id": "4bf6398a-0c91-440b-9cd3-a1c3b427ddc5",
   "metadata": {},
   "outputs": [
    {
     "data": {
      "text/plain": [
       "36272"
      ]
     },
     "execution_count": 4,
     "metadata": {},
     "output_type": "execute_result"
    }
   ],
   "source": [
    "# parquet_0.read_row_group(36271).to_pandas()\n",
    "# total_rows=parquet_0.num_row_groups\n",
    "# batch=100\n",
    "# total_rows"
   ]
  },
  {
   "cell_type": "markdown",
   "id": "6166fb3d-1e9d-46fa-89d9-91ed7f605a90",
   "metadata": {},
   "source": [
    "#### Convert to a pandas dataframe"
   ]
  },
  {
   "cell_type": "code",
   "execution_count": null,
   "id": "a5626cdd-f10f-4181-80fa-815cdb33bb66",
   "metadata": {},
   "outputs": [],
   "source": [
    "dfs=[]\n",
    "for i in parquet_0.iter_batches(batch_size=500):\n",
    "    dfs.append(i.to_pandas())"
   ]
  },
  {
   "cell_type": "code",
   "execution_count": null,
   "id": "e7f24514-be76-4149-a147-9b2d04a6395b",
   "metadata": {},
   "outputs": [],
   "source": [
    "df=pd.concat(dfs,ignore_index=True)"
   ]
  },
  {
   "cell_type": "code",
   "execution_count": null,
   "id": "991b04c5-9cf4-4538-b7e5-f9d775d9aacc",
   "metadata": {},
   "outputs": [],
   "source": [
    "df"
   ]
  },
  {
   "cell_type": "code",
   "execution_count": 25,
   "id": "68acbd13-9732-4d30-8839-3a1289f70cd3",
   "metadata": {},
   "outputs": [
    {
     "data": {
      "text/plain": [
       "(3, 125, 125)"
      ]
     },
     "execution_count": 25,
     "metadata": {},
     "output_type": "execute_result"
    }
   ],
   "source": [
    "# a=df['X_jets'][0]\n",
    "# np.array([np.stack(a[0]),np.stack(a[2]),np.stack(a[0])]).shape"
   ]
  },
  {
   "cell_type": "markdown",
   "id": "fe400292-6d29-4b82-9f0f-f9fc91fb46a8",
   "metadata": {},
   "source": [
    "### Issue"
   ]
  },
  {
   "cell_type": "raw",
   "id": "b56f1327-6ac5-474b-b300-eb5209b3f1ce",
   "metadata": {},
   "source": [
    "I was converting only a part of data as it is not loading at a time in my 32 GB RAM laptop.\n",
    "But I trained with the whole dataset multiple times as a process:-\n",
    "1. First train with 10000 rows data\n",
    "2. Predict the data and Save the Model in local system.\n",
    "3. Restarting the kernel and load the model\n",
    "4. Retrain the loaded model with new set of 10000 data.\n",
    "5. Now, again save the model and train with other data in next restarted kernal."
   ]
  },
  {
   "cell_type": "markdown",
   "id": "37a21eaa-5ce5-4538-afc1-1d67521d04d2",
   "metadata": {
    "tags": []
   },
   "source": [
    "#### Convert X_jets data shape to (125,125,3)"
   ]
  },
  {
   "cell_type": "code",
   "execution_count": null,
   "id": "8c421299-3e68-4c05-a26c-8ae8168b84cf",
   "metadata": {},
   "outputs": [],
   "source": [
    "c=0\n",
    "df1=[]\n",
    "for a in df.iloc[10000:20000,0]:\n",
    "    df1.append(np.array([np.stack(a[0]),np.stack(a[1]),np.stack(a[2])]))"
   ]
  },
  {
   "cell_type": "code",
   "execution_count": 7,
   "id": "b36552f1-f345-42f7-9cdb-d2e39390c6fa",
   "metadata": {},
   "outputs": [],
   "source": [
    "df1=np.array(df1)"
   ]
  },
  {
   "cell_type": "code",
   "execution_count": null,
   "id": "9a41d1d2-12ec-4f3b-8983-89479cef50e4",
   "metadata": {},
   "outputs": [],
   "source": [
    "df1.shape"
   ]
  },
  {
   "cell_type": "code",
   "execution_count": 9,
   "id": "3c3890e9-e504-42ec-9747-7101d4134d79",
   "metadata": {},
   "outputs": [],
   "source": [
    "df2=[]\n",
    "for i in range(10000):\n",
    "    df2.append(np.transpose(df1[i], (1, 2, 0)))"
   ]
  },
  {
   "cell_type": "code",
   "execution_count": 10,
   "id": "0840c563-7177-4b9b-be3d-ff8f410bd873",
   "metadata": {},
   "outputs": [],
   "source": [
    "X=np.array(df2)"
   ]
  },
  {
   "cell_type": "code",
   "execution_count": null,
   "id": "7ea5e4bd-0b41-417d-bc87-592fefb28c1b",
   "metadata": {},
   "outputs": [],
   "source": [
    "df2.shape"
   ]
  },
  {
   "cell_type": "code",
   "execution_count": 11,
   "id": "6b29f289-dcd5-42b9-8761-241fcbb94821",
   "metadata": {},
   "outputs": [],
   "source": [
    "y=df.iloc[:10000,3]"
   ]
  },
  {
   "cell_type": "markdown",
   "id": "1e686033-4ec2-4e6f-ad09-ca237d4da3c6",
   "metadata": {},
   "source": [
    "## Prepare the Model"
   ]
  },
  {
   "cell_type": "code",
   "execution_count": null,
   "id": "c5118fce-524d-4710-b885-b98e848c696a",
   "metadata": {},
   "outputs": [],
   "source": [
    "model=models.Sequential()\n",
    "model.add(layers.Conv2D(filters=32,kernel_size=(3,3),activation='relu',input_shape=(125,125,3)))\n",
    "model.add(layers.Conv2D(32,(3,3),activation='relu',padding=\"same\"))\n",
    "model.add(layers.MaxPooling2D(pool_size=(2,2)))\n",
    "model.add(layers.Conv2D(32,(3,3),activation='relu',padding=\"same\"))\n",
    "model.add(layers.Conv2D(32,(3,3),activation='relu',padding=\"same\"))\n",
    "model.add(layers.MaxPooling2D((2,2)))\n",
    "model.add(layers.Conv2D(32,(3,3),activation='relu',padding=\"same\"))\n",
    "model.add(layers.Conv2D(32,(3,3),activation='relu',padding=\"same\"))\n",
    "model.add(layers.MaxPooling2D((2,2)))\n",
    "model.add(layers.Flatten())\n",
    "model.add(layers.Dense(64,activation='relu'))\n",
    "model.add(layers.Dense(64,activation='relu'))\n",
    "model.add(layers.Dense(1,activation='sigmoid'))\n",
    "model.summary()"
   ]
  },
  {
   "cell_type": "markdown",
   "id": "d9378f73-75cd-4f8d-b485-f377add5208e",
   "metadata": {},
   "source": [
    "### Loss function and Optimizer"
   ]
  },
  {
   "cell_type": "code",
   "execution_count": 13,
   "id": "b22f85df-9ca3-4b91-89ce-45fe37d59156",
   "metadata": {},
   "outputs": [],
   "source": [
    "model.compile(\n",
    "    loss=tf.keras.losses.binary_crossentropy,\n",
    "    optimizer=tf.keras.optimizers.Adam(learning_rate=0.001),\n",
    "    metrics=['accuracy'])"
   ]
  },
  {
   "cell_type": "markdown",
   "id": "83943b0e-127a-49e4-ad00-13fb1daf82bf",
   "metadata": {},
   "source": [
    "### Training the Model"
   ]
  },
  {
   "cell_type": "code",
   "execution_count": 15,
   "id": "6a719d15-df8e-49e3-abf3-755b14df90a6",
   "metadata": {},
   "outputs": [
    {
     "name": "stdout",
     "output_type": "stream",
     "text": [
      "Epoch 1/4\n",
      "200/200 [==============================] - 247s 1s/step - loss: 0.6500 - accuracy: 0.6661\n",
      "Epoch 2/4\n",
      "200/200 [==============================] - 147s 737ms/step - loss: 0.5857 - accuracy: 0.7140\n",
      "Epoch 3/4\n",
      "200/200 [==============================] - 147s 734ms/step - loss: 0.5856 - accuracy: 0.7120\n",
      "Epoch 4/4\n",
      "200/200 [==============================] - 141s 706ms/step - loss: 0.5547 - accuracy: 0.7242\n"
     ]
    },
    {
     "data": {
      "text/plain": [
       "<keras.callbacks.History at 0x21b1323b310>"
      ]
     },
     "execution_count": 15,
     "metadata": {},
     "output_type": "execute_result"
    }
   ],
   "source": [
    "model.fit(X,y,batch_size=50,epochs=4,verbose=1)"
   ]
  },
  {
   "cell_type": "markdown",
   "id": "55110842-0e59-4deb-9d30-828082608ce8",
   "metadata": {},
   "source": [
    "### Save Model in local Storage"
   ]
  },
  {
   "cell_type": "code",
   "execution_count": 12,
   "id": "34686ddf-1b96-4e87-bf57-a2237b1a65f4",
   "metadata": {},
   "outputs": [],
   "source": [
    "from tensorflow.keras.models import load_model"
   ]
  },
  {
   "cell_type": "code",
   "execution_count": 16,
   "id": "e0114ae8-0f80-4d74-87e4-ee2ee9995848",
   "metadata": {},
   "outputs": [],
   "source": [
    "model.save(os.path.join('models','quarksgulonsModel.h5'))"
   ]
  },
  {
   "cell_type": "markdown",
   "id": "4659d118-3f6e-445e-9f96-b7f5db4fcf8f",
   "metadata": {},
   "source": [
    "#### Reload the saved Model"
   ]
  },
  {
   "cell_type": "code",
   "execution_count": 15,
   "id": "37ae3d9f-c5da-4e14-ba57-db2342282be7",
   "metadata": {},
   "outputs": [],
   "source": [
    "new_model= load_model(os.path.join('models','quarksgulonsmodel.h5'))"
   ]
  },
  {
   "cell_type": "markdown",
   "id": "4f47c8d2-f5b1-4b5f-a182-cc5d03e58d06",
   "metadata": {},
   "source": [
    "### Test the Model"
   ]
  },
  {
   "cell_type": "code",
   "execution_count": null,
   "id": "fa66b249-0581-4cd4-8af0-12dc175915f0",
   "metadata": {},
   "outputs": [],
   "source": [
    "y_pred=new_model.predict(X)"
   ]
  },
  {
   "cell_type": "code",
   "execution_count": null,
   "id": "f96f3135-1252-49fd-9b67-67ab19561960",
   "metadata": {},
   "outputs": [],
   "source": [
    "model.evaluate(X,y)"
   ]
  },
  {
   "cell_type": "code",
   "execution_count": null,
   "id": "f360e883-a7c4-4cf3-bbf8-e7bd4a5602dd",
   "metadata": {},
   "outputs": [],
   "source": [
    "roc_auc_score(y,y_pred)"
   ]
  },
  {
   "cell_type": "code",
   "execution_count": null,
   "id": "ebb3e8c2-3f17-4145-b853-e9a21197a458",
   "metadata": {},
   "outputs": [],
   "source": [
    "fpr, tpr, _ = roc_curve(y,  y_pred)\n",
    "\n",
    "#create ROC curve\n",
    "plt.plot(fpr,tpr,label=\"AUC=\"+str(auc_score))\n",
    "plt.ylabel('True Positive Rate')\n",
    "plt.xlabel('False Positive Rate')\n",
    "plt.legend(loc=4)\n",
    "plt.show()"
   ]
  },
  {
   "cell_type": "raw",
   "id": "4caf80a4-96c7-4a81-ba7f-ef2e14bd76f7",
   "metadata": {},
   "source": [
    "Next step is retraining the model and testing with other data"
   ]
  }
 ],
 "metadata": {
  "kernelspec": {
   "display_name": "computervision",
   "language": "python",
   "name": "computervision"
  },
  "language_info": {
   "codemirror_mode": {
    "name": "ipython",
    "version": 3
   },
   "file_extension": ".py",
   "mimetype": "text/x-python",
   "name": "python",
   "nbconvert_exporter": "python",
   "pygments_lexer": "ipython3",
   "version": "3.9.13"
  }
 },
 "nbformat": 4,
 "nbformat_minor": 5
}
